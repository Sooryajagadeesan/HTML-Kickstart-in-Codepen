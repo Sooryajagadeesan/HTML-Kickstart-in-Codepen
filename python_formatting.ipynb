{
  "nbformat": 4,
  "nbformat_minor": 0,
  "metadata": {
    "colab": {
      "name": "3_home_work_Py_training.ipynb",
      "provenance": [],
      "collapsed_sections": [],
      "authorship_tag": "ABX9TyPJS2VbB+yMuSGCVmhM5F5A",
      "include_colab_link": true
    },
    "kernelspec": {
      "name": "python3",
      "display_name": "Python 3"
    },
    "language_info": {
      "name": "python"
    }
  },
  "cells": [
    {
      "cell_type": "markdown",
      "metadata": {
        "id": "view-in-github",
        "colab_type": "text"
      },
      "source": [
        "<a href=\"https://colab.research.google.com/github/Sooryajagadeesan/Codepen-projects/blob/main/python_formatting.ipynb\" target=\"_parent\"><img src=\"https://colab.research.google.com/assets/colab-badge.svg\" alt=\"Open In Colab\"/></a>"
      ]
    },
    {
      "cell_type": "markdown",
      "metadata": {
        "id": "maD9Rnq2LirP"
      },
      "source": [
        "Time Table"
      ]
    },
    {
      "cell_type": "code",
      "metadata": {
        "id": "ZI9mf3hbLhDv",
        "colab": {
          "base_uri": "https://localhost:8080/"
        },
        "outputId": "432a5ea6-a9a8-4448-f3ed-3582ded091c0"
      },
      "source": [
        "period = []\n",
        "days = [\"Monday\",\"Tuesday\",\"Wednesday\",\"Thursday\",\"Friday\",\"Saturday\"] \n",
        "for j in range(6):\n",
        "    \n",
        "    print(\"Enter {} periods seperated by a space\".format(days[j]))\n",
        "    day_period = input().split()[:8]\n",
        "    if len(day_period) !=8:\n",
        "        day_period.extend([\"NIL\"]*(8-len(day_period)))\n",
        "        \n",
        "    period.append(day_period)\n",
        "\n",
        "    \n",
        "print(\"-\"*90)\n",
        "print(\"{:^90}\".format(\"KITE\"))\n",
        "print(\"{:^90}\".format(\"TIME TABLE\"))\n",
        "print(\"-\"*90)\n",
        "# period = [[\"DE\",\"SS\",\"DC\",\"EC1\",\"DS\",\"BEIE\",\"ED\",\"CA\"],[\"CA\",\"EG\",\"Py\",\"C\",\"DS\",\"OOPS\",\"C\",\"Py\"],[\"SS\",\"DC\",\"EC1\",\"DS\",\"BEIE\",\"ED\",\"CA\",\"ED\"],[\"DS\",\"OOPS\",\"C\",\"Py\",\"SS\",\"DC\",\"EC1\",\"DC\"],[\"SS\",\"DC\",\"EC1\",\"Py\",\"DS\",\"OOPS\",\"C\",\"Py\"],[\"SS\",\"DC\",\"EC1\",\"DS\",\"OOPS\",\"OOPS\",\"C\",\"Py\"]]\n",
        "print(\" \"*10,end = \"\")\n",
        "for i in range(1,9):\n",
        "    print(\"{:^10}\".format(i),end = \"\")\n",
        "    \n",
        "print()\n",
        "print(\"-\"*90)\n",
        "for day in range(len(days)):\n",
        "    print(\"{:^10}\".format(days[day]),end = \"\")\n",
        "    for pe in range(len(period[day])):\n",
        "        print(\"{:^10}\".format(period[day][pe]),end = \"\")\n",
        "    print()\n",
        "    print(\"-\"*90)\n",
        "    \n",
        "\n",
        "    \n",
        "\n"
      ],
      "execution_count": 1,
      "outputs": [
        {
          "output_type": "stream",
          "name": "stdout",
          "text": [
            "Enter Monday periods seperated by a space\n",
            "\n",
            "Enter Tuesday periods seperated by a space\n",
            "\n",
            "Enter Wednesday periods seperated by a space\n",
            "\n",
            "Enter Thursday periods seperated by a space\n",
            "\n",
            "Enter Friday periods seperated by a space\n",
            "\n",
            "Enter Saturday periods seperated by a space\n",
            "\n",
            "------------------------------------------------------------------------------------------\n",
            "                                           KITE                                           \n",
            "                                        TIME TABLE                                        \n",
            "------------------------------------------------------------------------------------------\n",
            "              1         2         3         4         5         6         7         8     \n",
            "------------------------------------------------------------------------------------------\n",
            "  Monday     NIL       NIL       NIL       NIL       NIL       NIL       NIL       NIL    \n",
            "------------------------------------------------------------------------------------------\n",
            " Tuesday     NIL       NIL       NIL       NIL       NIL       NIL       NIL       NIL    \n",
            "------------------------------------------------------------------------------------------\n",
            "Wednesday    NIL       NIL       NIL       NIL       NIL       NIL       NIL       NIL    \n",
            "------------------------------------------------------------------------------------------\n",
            " Thursday    NIL       NIL       NIL       NIL       NIL       NIL       NIL       NIL    \n",
            "------------------------------------------------------------------------------------------\n",
            "  Friday     NIL       NIL       NIL       NIL       NIL       NIL       NIL       NIL    \n",
            "------------------------------------------------------------------------------------------\n",
            " Saturday    NIL       NIL       NIL       NIL       NIL       NIL       NIL       NIL    \n",
            "------------------------------------------------------------------------------------------\n"
          ]
        }
      ]
    },
    {
      "cell_type": "markdown",
      "metadata": {
        "id": "CzsJuUjFm5CX"
      },
      "source": [
        "A simple HARD CODED Time Table"
      ]
    },
    {
      "cell_type": "code",
      "metadata": {
        "colab": {
          "base_uri": "https://localhost:8080/"
        },
        "id": "TRhgcoIZiH46",
        "outputId": "0affe538-3d9a-49b0-9d7e-6e3027aa7c07"
      },
      "source": [
        "print('''\n",
        "|---------|---------|---------|---------|---------|---------|---------|---------|---------|\n",
        "|         |    1    |    2    |    3    |    4    |    5    |    6    |    7    |    8    |\n",
        "|---------|---------|---------|---------|---------|---------|---------|---------|---------|\n",
        "|  Monday | Python  |    C    |   C++   |    OS   |   DBMS  | Python  |  OOPS   |   Java  |\n",
        "|---------|---------|---------|---------|---------|---------|---------|---------|---------|\n",
        "| Tuesday |   Java  | Python  |   DBMS  |     C   |     Data Structures in C Laboratory   |\n",
        "|---------|---------|---------|---------|---------|---------|---------|---------|---------|\n",
        "|Wednesday|    OS   |       Python      |   C++   |  Java   |  OOPS   |  Business English |\n",
        "|---------|---------|---------|---------|---------|---------|---------|---------|---------|\n",
        "| Thurday | Python  |  Java   |    C    |  OOPS   |         DBMS      |   C++   |  Java   |\n",
        "|---------|---------|---------|---------|---------|---------|---------|---------|---------|\n",
        "|  Friday |   C++   | Python  |         OS        |  Java   |    C    |       OOPS        |\n",
        "|---------|---------|---------|---------|---------|---------|---------|---------|---------|\n",
        "| Saturday|    Data Structures in C Laboratory    |   OOPS  |   C++   |   DBMS  |  Python |\n",
        "|---------|---------|---------|---------|---------|---------|---------|---------|---------|\n",
        "| Sunday  |    H    |    O    |    L    |   I     |    D    |    A    |    Y    |   !!!!  |\n",
        "|---------|---------|---------|---------|---------|---------|---------|---------|---------|\n",
        "''')\n"
      ],
      "execution_count": 2,
      "outputs": [
        {
          "output_type": "stream",
          "name": "stdout",
          "text": [
            "\n",
            "|---------|---------|---------|---------|---------|---------|---------|---------|---------|\n",
            "|         |    1    |    2    |    3    |    4    |    5    |    6    |    7    |    8    |\n",
            "|---------|---------|---------|---------|---------|---------|---------|---------|---------|\n",
            "|  Monday | Python  |    C    |   C++   |    OS   |   DBMS  | Python  |  OOPS   |   Java  |\n",
            "|---------|---------|---------|---------|---------|---------|---------|---------|---------|\n",
            "| Tuesday |   Java  | Python  |   DBMS  |     C   |     Data Structures in C Laboratory   |\n",
            "|---------|---------|---------|---------|---------|---------|---------|---------|---------|\n",
            "|Wednesday|    OS   |       Python      |   C++   |  Java   |  OOPS   |  Business English |\n",
            "|---------|---------|---------|---------|---------|---------|---------|---------|---------|\n",
            "| Thurday | Python  |  Java   |    C    |  OOPS   |         DBMS      |   C++   |  Java   |\n",
            "|---------|---------|---------|---------|---------|---------|---------|---------|---------|\n",
            "|  Friday |   C++   | Python  |         OS        |  Java   |    C    |       OOPS        |\n",
            "|---------|---------|---------|---------|---------|---------|---------|---------|---------|\n",
            "| Saturday|    Data Structures in C Laboratory    |   OOPS  |   C++   |   DBMS  |  Python |\n",
            "|---------|---------|---------|---------|---------|---------|---------|---------|---------|\n",
            "| Sunday  |    H    |    O    |    L    |   I     |    D    |    A    |    Y    |   !!!!  |\n",
            "|---------|---------|---------|---------|---------|---------|---------|---------|---------|\n",
            "\n"
          ]
        }
      ]
    },
    {
      "cell_type": "markdown",
      "metadata": {
        "id": "yBUKxNe6mvml"
      },
      "source": [
        "Bank Cheque generator\n"
      ]
    },
    {
      "cell_type": "code",
      "metadata": {
        "colab": {
          "base_uri": "https://localhost:8080/"
        },
        "id": "7ieylNBgjYRc",
        "outputId": "217dd442-ec98-4996-a87f-905f5a6b1d32"
      },
      "source": [
        "bank = input(\"Enter Bank name with Branch : \")\n",
        "date = input(\"Enter date in (DD-MM-YY) format : \")\n",
        "name = input(\"Enter your name : \")\n",
        "amount = int(input(\"Enter the amount (in Rs.) : \"))\n",
        "amount = str(amount)+\"/-\"\n",
        "amountInWords = input(\"Enter amount in words (end with 'only'): \")\n",
        "accountNumber= int(input(\"Enter Account Number : \"))\n",
        "signature = input(\"Enter your e-Signature : \")\n",
        "i = 5\n",
        "\n",
        "print(\"-\"*100)\n",
        "print(\"|  \",\"Bank & Branch: \",bank,\" \"*(86-len(bank)-len(date)-7-7),\"Date : \",date,\"  |\",sep=\"\")\n",
        "print(\"|  \",\" \"*94,\"  |\",sep=\"\")\n",
        "#print(\"|\", \" Pay\",\" \"*5,\"_\"*5, \"Soorya\",\"_\"*5 ,\" \"*75, \"|\",sep=\"\")\n",
        "#print(\"|  \",pay,\" \"*(i-2),\"-\"*(i*i),name,\"-\"*(i*i),\" \"*(94-len(pay)- len(name)-i-2 -i*i -i*i),\"  |\",sep=\"\")\n",
        "print(\"|  \",\"PAY\",\" \"*(i-2),\"-\"*i,name,\"-\"*(i*i*2),\" \"*(94-3 - (i-2) - i - len(name)- (i*i*2)-8),\"OR ORDER\",\"  |\",sep = \"\")\n",
        "print(\"|  \",\" \"*(94),\"  |\",sep = \"\") #gap\n",
        "print(\"|  \",\"RUPEES \",\"-\"*i,amountInWords,\"-\"*(i*i*2),\" \"*(94-7-i - len(amountInWords)-(i*i*2)),\"  |\",sep =\"\")\n",
        "print(\"|  \",\" \"*(94),\"  |\",sep = \"\") #gap\n",
        "print(\"|  \",\"-\"*(94-len(str(amount))-4 -3),\"   \",\"Rs. \",amount,\"  |\",sep = \"\")\n",
        "print(\"|  \",\" \"*(94),\"  |\",sep = \"\")#gap\n",
        "print(\"|  \",\"ACCOUNT NO. \",accountNumber,\" \"*(94-12 - len(str(accountNumber))),\"  |\",sep = \"\")\n",
        "print(\"|  \",\" \"*(94),\"  |\",sep = \"\") #gap\n",
        "print(\"|  \",\" \"*(94),\"  |\",sep = \"\")#gap\n",
        "print(\"|  \",\" \"*(94-14-len(signature)),\"e-Signature : \",signature,\"  |\",sep = \"\")\n",
        "#print(\"|  \",\" \"*(94),\"  |\",sep = \"\") #gap\n",
        "print(\"-\"*100)\n",
        "\n"
      ],
      "execution_count": 8,
      "outputs": [
        {
          "output_type": "stream",
          "name": "stdout",
          "text": [
            "Enter Bank name with Branch : State Bank of India, Gandhipuram\n",
            "Enter date in (DD-MM-YY) format : 12-09-21\n",
            "Enter your name : Soorya J\n",
            "Enter the amount (in Rs.) : 1000\n",
            "Enter amount in words (end with 'only'): One thousand rupees only\n",
            "Enter Account Number : 1234567890\n",
            "Enter your e-Signature : soorya__\n",
            "----------------------------------------------------------------------------------------------------\n",
            "|  Bank & Branch: State Bank of India, Gandhipuram                                Date : 12-09-21  |\n",
            "|                                                                                                  |\n",
            "|  PAY   -----Soorya J--------------------------------------------------                 OR ORDER  |\n",
            "|                                                                                                  |\n",
            "|  RUPEES -----One thousand rupees only--------------------------------------------------          |\n",
            "|                                                                                                  |\n",
            "|  ---------------------------------------------------------------------------------   Rs. 1000/-  |\n",
            "|                                                                                                  |\n",
            "|  ACCOUNT NO. 1234567890                                                                          |\n",
            "|                                                                                                  |\n",
            "|                                                                                                  |\n",
            "|                                                                          e-Signature : soorya__  |\n",
            "----------------------------------------------------------------------------------------------------\n"
          ]
        }
      ]
    },
    {
      "cell_type": "markdown",
      "metadata": {
        "id": "0jIyCHb-scFs"
      },
      "source": [
        "BILL Generator\n"
      ]
    },
    {
      "cell_type": "code",
      "metadata": {
        "colab": {
          "base_uri": "https://localhost:8080/"
        },
        "id": "AP_fyOmruYGd",
        "outputId": "4d14e816-c2b8-493b-ca40-866e6c4c0b5c"
      },
      "source": [
        "print(\"-\"*100)\n",
        "print('''\n",
        "            TODAY's SALES\n",
        "\n",
        "123 - Hamam Soap\n",
        "456 - Parle G Biscuit\n",
        "789 - Colgate Tooth Paste 100g\n",
        "246 - Axe Perfume 100ml\n",
        "135 - Amrutanjan Pain Balm 8ml\n",
        "''')\n",
        "print(\"-\"*100)\n",
        "\n",
        "storeName = \"Kannan Departmental Stores\"\n",
        "branch = \"Ram Nagar, Coimbatore.\"\n",
        "billno = \"123456\"\n",
        "date = input(\"Enter date in DD-MM-YY format : \")\n",
        "customerName = input(\"Enter Customer Name : \")\n",
        "customerMobileNumber = \"+91 \" + input(\"Enter Customer Mobile Number : \")\n",
        "fields = [\"SL NO\",\"Product\",\"Quantity\",\"Amount\"]\n",
        "total_amount = 0\n",
        "productDB = {\n",
        "    123:[\"Hamam Soap\",35.0],\n",
        "    456:[\"Parle G Biscuit\",20.0],\n",
        "    789:[\"Colgate Tooth Paste 100g\",50.0],\n",
        "    246:[\"Axe Perfume 100ml\",105.0],\n",
        "    135:[\"Amrutanjan Pain Balm 8ml\",38.0]\n",
        "}\n",
        "productCount = int(input(\"Enter number of Products(Don't include the individual pieces of same product) : \"))\n",
        "productSerials = []\n",
        "for i in range(productCount):\n",
        "    serial = int(input(\"Enter product({}) Serial Number  : \".format(i+1)))\n",
        "    while serial not in productDB.keys():\n",
        "        print(\"OOPS ! Please Enter a valid Serial Number\")\n",
        "        serial = int(input(\"Re-enter product({}) Serial Number : \".format(i+1)))\n",
        "    quantity = int(input(\"Enter product({}) Quantity : \".format(i+1)))\n",
        "    productSerials.append([serial,quantity])\n",
        "print(\"-\"*100)\n",
        "print(\"{:^100}\".format(storeName))\n",
        "print(\"{:^100}\".format(branch))\n",
        "print(\"-\"*100)\n",
        "print(\"Bill no : {:<67} Date : {:>10}\".format(billno,date))\n",
        "print(\"-\"*100)\n",
        "print(\"Customer Name : {:<100}\".format(customerName))\n",
        "print(\"Customer Mobile : {:<100}\".format(customerMobileNumber))\n",
        "print(\"-\"*100)\n",
        "for f in fields:\n",
        "    print(\"{:^25}\".format(f),end = \"\")\n",
        "print();print(\"-\"*100)\n",
        "for i in range(productCount):\n",
        "    serialNo = productSerials[i][0]\n",
        "    quantity = productSerials[i][1]\n",
        "    price = productDB[serialNo][1]\n",
        "    amount = quantity*price\n",
        "    total_amount += amount\n",
        "    print(\"{:^25}\".format(serialNo),end=\"\")\n",
        "    print(\"{:^25}\".format(productDB[serialNo][0]),end = \"\")\n",
        "    print(\"{:^25}\".format(quantity),end = \"\")\n",
        "    print(\"{:^25}\".format(amount))\n",
        "    \n",
        "print(\"-\"*100)\n",
        "print(\"{:^25}\".format(\"\"),end = \"\")\n",
        "print(\"{:^25}\".format(\"\"),end = \"\")1\n",
        "\n",
        "print(\"{:^25}\".format(\"TOTAL\"),end = \"\")\n",
        "print(\"{:^25}\".format(total_amount))\n",
        "print(\"-\"*100)\n",
        "print()\n",
        "print()\n",
        "print(\"{:^100}\".format(\"THANK YOU !!\"))\n",
        "print(\"{:^100}\".format(\"HAVE A NICE DAY !!!!\"))\n",
        "        \n",
        "    \n",
        "    \n",
        "    \n",
        "\n"
      ],
      "execution_count": 5,
      "outputs": [
        {
          "output_type": "stream",
          "name": "stdout",
          "text": [
            "----------------------------------------------------------------------------------------------------\n",
            "\n",
            "            TODAY's SALES\n",
            "\n",
            "123 - Hamam Soap\n",
            "456 - Parle G Biscuit\n",
            "789 - Colgate Tooth Paste 100g\n",
            "246 - Axe Perfume 100ml\n",
            "135 - Amrutanjan Pain Balm 8ml\n",
            "\n",
            "----------------------------------------------------------------------------------------------------\n",
            "Enter date in DD-MM-YY format : 12-09-21\n",
            "Enter Customer Name : Soorya J\n",
            "Enter Customer Mobile Number : 1234567890\n",
            "Enter number of Products(Don't include the individual pieces of same product) : 2\n",
            "Enter product(1) Serial Number  : 246\n",
            "Enter product(1) Quantity : 1\n",
            "Enter product(2) Serial Number  : 456\n",
            "Enter product(2) Quantity : 2\n",
            "----------------------------------------------------------------------------------------------------\n",
            "                                     Kannan Departmental Stores                                     \n",
            "                                       Ram Nagar, Coimbatore.                                       \n",
            "----------------------------------------------------------------------------------------------------\n",
            "Bill no : 123456                                                              Date :   12-09-21\n",
            "----------------------------------------------------------------------------------------------------\n",
            "Customer Name : Soorya J                                                                                            \n",
            "Customer Mobile : +91 1234567890                                                                                      \n",
            "----------------------------------------------------------------------------------------------------\n",
            "          SL NO                   Product                 Quantity                  Amount          \n",
            "----------------------------------------------------------------------------------------------------\n",
            "           246               Axe Perfume 100ml                1                      105.0          \n",
            "           456                Parle G Biscuit                 2                      40.0           \n",
            "----------------------------------------------------------------------------------------------------\n",
            "                                                            TOTAL                    145.0          \n",
            "----------------------------------------------------------------------------------------------------\n",
            "\n",
            "\n",
            "                                            THANK YOU !!                                            \n",
            "                                        HAVE A NICE DAY !!!!                                        \n"
          ]
        }
      ]
    }
  ]
}